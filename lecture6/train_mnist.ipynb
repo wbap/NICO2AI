{
 "cells": [
  {
   "cell_type": "code",
   "execution_count": 1,
   "metadata": {},
   "outputs": [
    {
     "name": "stderr",
     "output_type": "stream",
     "text": [
      "/home/kumezawa/dev/cupy/cupy/core/fusion.py:659: FutureWarning: cupy.core.fusion is experimental. The interface can change in the future.\n",
      "  util.experimental('cupy.core.fusion')\n"
     ]
    }
   ],
   "source": [
    "import numpy as np\n",
    "import chainer\n",
    "from chainer import training\n",
    "from chainer.training import extensions\n",
    "# matplotlibを使ったグラフ描画結果がnotebook内に表示されるようにします。\n",
    "%matplotlib inline\n",
    "import matplotlib.pyplot as plt"
   ]
  },
  {
   "cell_type": "markdown",
   "metadata": {},
   "source": [
    "# データセットの準備\n",
    "ここでは、Chainerが用意しているMNISTデータセットを使うための便利なメソッドを利用します。これを使うと、データのダウンロードから、一つ一つのデータを取り出せるようにするところまでが隠蔽されます。"
   ]
  },
  {
   "cell_type": "code",
   "execution_count": 2,
   "metadata": {},
   "outputs": [],
   "source": [
    "# Load the MNIST dataset\n",
    "train, test = chainer.datasets.get_mnist(withlabel=True, ndim=1)"
   ]
  },
  {
   "cell_type": "code",
   "execution_count": 3,
   "metadata": {},
   "outputs": [
    {
     "data": {
      "image/png": "[encoded data removed]",
      "text/plain": [
       "<matplotlib.figure.Figure at 0x7ff4fd2b2400>"
      ]
     },
     "metadata": {},
     "output_type": "display_data"
    },
    {
     "name": "stdout",
     "output_type": "stream",
     "text": [
      "label: 5\n"
     ]
    }
   ],
   "source": [
    "# データの例示\n",
    "x, t = train[0]\n",
    "plt.imshow(x.reshape(28, 28), cmap='gray')\n",
    "plt.show()\n",
    "print('label:', t)"
   ]
  },
  {
   "cell_type": "markdown",
   "metadata": {},
   "source": [
    "# Iteratorの作成\n",
    "データセットから決まった数のデータを取り出し、それらを束ねてミニバッチを作成して返してくれるIteratorを作成しましょう。これをこの後の学習ループの中で使用していきます。イテレータは、next()メソッドで新しいミニバッチを返してくれます。内部ではデータセットを何周なめたか（epoch）、現在のイテレーションが新しいepochの最初のイテレーションか、などを管理するプロパティ（is_new_epoch）などを持っています。"
   ]
  },
  {
   "cell_type": "code",
   "execution_count": 4,
   "metadata": {},
   "outputs": [],
   "source": [
    "# iteratorsの設定\n",
    "batchsize = 20\n",
    "\n",
    "train_iter = chainer.iterators.SerialIterator(train, batchsize)\n",
    "test_iter = chainer.iterators.SerialIterator(test, batchsize, repeat=False, shuffle=False)"
   ]
  },
  {
   "cell_type": "markdown",
   "metadata": {},
   "source": [
    "# モデルの定義"
   ]
  },
  {
   "cell_type": "code",
   "execution_count": 5,
   "metadata": {},
   "outputs": [],
   "source": [
    "import chainer.links as L\n",
    "import chainer.functions as F"
   ]
  },
  {
   "cell_type": "code",
   "execution_count": 6,
   "metadata": {},
   "outputs": [],
   "source": [
    "# MLP: Multi-layer Perceptron\n",
    "class MLP(chainer.Chain):\n",
    "    \n",
    "    def __init__(self, n_units1, n_units2, n_output):\n",
    "        super().__init__()\n",
    "        with self.init_scope():\n",
    "            self.l1 = L.Linear(None, n_units1)\n",
    "            self.l2 = L.Linear(None, n_units2)\n",
    "            self.l3 = L.Linear(None, n_output)\n",
    "            \n",
    "    def __call__(self, x):\n",
    "        h1 = F.relu(self.l1(x))\n",
    "        h2 = F.relu(self.l2(h1))\n",
    "        return self.l3(h2)"
   ]
  },
  {
   "cell_type": "code",
   "execution_count": 7,
   "metadata": {},
   "outputs": [],
   "source": [
    "# モデルの宣言\n",
    "np.random.seed(1) # 乱数のシードを固定\n",
    "\n",
    "gpu_id = 0  # change to 0 if using GPU\n",
    "\n",
    "n_units1, n_units2, n_output = 100, 100, 10\n",
    "model     = MLP(n_units1, n_units2, n_output)\n",
    "\n",
    "if gpu_id >= 0:\n",
    "    model.to_gpu(gpu_id)\n",
    "\n",
    "model = L.Classifier(model)\n",
    "\n",
    "if gpu_id >= 0:\n",
    "    model.to_gpu(gpu_id)"
   ]
  },
  {
   "cell_type": "markdown",
   "metadata": {},
   "source": [
    "# 最適化手法の選択\n",
    "Chainerは多くの最適化手法を提供しています。chainer.optimizersモジュール以下にそれらはあります。ここでは最もシンプルな勾配降下法の手法であるoptimizers.SGDを用います。Optimizerのオブジェクトには、setupメソッドを使ってモデル（Chainオブジェクト）を渡します。こうすることでOptimizerは、自身が更新すべきモデル内のパラメータを自動的にたどってくれます。\n",
    "\n",
    "他にもいろいろな最適化手法が手軽に試せるので、色々と試してみて結果の変化を見てみてください。例えば、下のchainer.optimizers.SGDのうちSGDの部分をMomentumSGD, RMSprop,  Adamなどに変えて、結果の違いを見てみましょう。"
   ]
  },
  {
   "cell_type": "code",
   "execution_count": 8,
   "metadata": {},
   "outputs": [],
   "source": [
    "optimizer = chainer.optimizers.SGD()\n",
    "optimizer.setup(model)"
   ]
  },
  {
   "cell_type": "markdown",
   "metadata": {},
   "source": [
    "# Trainerの設定"
   ]
  },
  {
   "cell_type": "code",
   "execution_count": 9,
   "metadata": {},
   "outputs": [],
   "source": [
    "# updaterの設定\n",
    "from chainer import training\n",
    "updater = training.StandardUpdater(train_iter, optimizer, device=gpu_id)\n",
    "# trainerとそのextensionsの設定\n",
    "from chainer.training import extensions\n",
    "\n",
    "# trainerの基本設定\n",
    "## epoch = 1000\n",
    "epoch = 10\n",
    "trainer = training.Trainer(updater, (epoch, 'epoch'), out='mnist_result')\n",
    "\n",
    "# 評価データで評価\n",
    "trainer.extend(extensions.Evaluator(test_iter, model, device=gpu_id))\n",
    "\n",
    "# 学習結果の途中を表示する\n",
    "trainer.extend(extensions.LogReport(trigger=(1, 'epoch')))\n",
    "\n",
    "# １エポックごとに、trainデータに対するaccuracyと、testデータに対するaccuracyを出力させる\n",
    "trainer.extend(extensions.PrintReport(['epoch', 'main/accuracy', 'validation/main/accuracy', 'elapsed_time']), trigger=(1, 'epoch'))\n",
    "\n",
    "# 定期的にモデルやOptimizerの状態を自動シリアライズ(保存)\n",
    "trainer.extend(extensions.snapshot(filename='snapshot_epoch-{.updater.epoch}'))\n",
    "trainer.extend(extensions.snapshot_object(model.predictor, filename='model_epoch-{.updater.epoch}'))"
   ]
  },
  {
   "cell_type": "code",
   "execution_count": 10,
   "metadata": {},
   "outputs": [
    {
     "name": "stdout",
     "output_type": "stream",
     "text": [
      "epoch       main/accuracy  validation/main/accuracy  elapsed_time\n",
      "\u001b[J1           0.840211       0.914701                  14.473        \n",
      "\u001b[J2           0.922657       0.932601                  28.416        \n",
      "\u001b[J3           0.937904       0.944201                  42.2929       \n",
      "\u001b[J4           0.947605       0.950501                  56.414        \n",
      "\u001b[J5           0.954553       0.9549                    69.769        \n",
      "\u001b[J6           0.960155       0.960401                  81.552        \n",
      "\u001b[J7           0.964555       0.963201                  95.5275       \n",
      "\u001b[J8           0.968673       0.9653                    108.728       \n",
      "\u001b[J9           0.970706       0.9665                    121.996       \n",
      "\u001b[J10          0.973189       0.9681                    134.774       \n"
     ]
    }
   ],
   "source": [
    "trainer.run()"
   ]
  },
  {
   "cell_type": "markdown",
   "metadata": {},
   "source": [
    "# 結果の確認"
   ]
  },
  {
   "cell_type": "code",
   "execution_count": 11,
   "metadata": {},
   "outputs": [],
   "source": [
    "import matplotlib.pyplot as plt"
   ]
  },
  {
   "cell_type": "code",
   "execution_count": 12,
   "metadata": {},
   "outputs": [],
   "source": [
    "import json\n",
    "\n",
    "with open('result/log') as f:\n",
    "     logs = json.load(f)"
   ]
  },
  {
   "cell_type": "code",
   "execution_count": 13,
   "metadata": {},
   "outputs": [],
   "source": [
    "# 損失関数のプロット"
   ]
  },
  {
   "cell_type": "code",
   "execution_count": 14,
   "metadata": {},
   "outputs": [],
   "source": [
    "loss_train = [ log['main/loss'] for log in logs ]\n",
    "loss_test  = [ log['validation/main/loss'] for log in logs ]"
   ]
  },
  {
   "cell_type": "code",
   "execution_count": 15,
   "metadata": {},
   "outputs": [
    {
     "data": {
      "image/png": "[encoded data removed]",
      "text/plain": [
       "<matplotlib.figure.Figure at 0x7ff4fd1d76d8>"
      ]
     },
     "metadata": {},
     "output_type": "display_data"
    }
   ],
   "source": [
    "plt.plot(loss_train, label='train')  # 訓練データ\n",
    "plt.plot(loss_test,  label='test')  # 検証データ\n",
    "plt.legend()  # 凡例表示\n",
    "plt.show()"
   ]
  },
  {
   "cell_type": "code",
   "execution_count": 16,
   "metadata": {},
   "outputs": [],
   "source": [
    "accuracy_train = [ log['main/accuracy'] for log in logs ]\n",
    "accuracy_test  = [ log['validation/main/accuracy'] for log in logs ]"
   ]
  },
  {
   "cell_type": "code",
   "execution_count": 17,
   "metadata": {},
   "outputs": [
    {
     "data": {
      "image/png": "[encoded data removed]",
      "text/plain": [
       "<matplotlib.figure.Figure at 0x7ff4fd1bf710>"
      ]
     },
     "metadata": {},
     "output_type": "display_data"
    }
   ],
   "source": [
    "plt.plot(accuracy_train, label='train')  # 訓練データ\n",
    "plt.plot(accuracy_test,  label='test')  # 検証データ\n",
    "plt.legend()  # 凡例表示\n",
    "plt.show()"
   ]
  },
  {
   "cell_type": "markdown",
   "metadata": {},
   "source": [
    "# 学習済みモデルで推論"
   ]
  },
  {
   "cell_type": "code",
   "execution_count": 18,
   "metadata": {},
   "outputs": [
    {
     "data": {
      "image/png": "[encoded data removed]",
      "text/plain": [
       "<matplotlib.figure.Figure at 0x7ff4d263eb38>"
      ]
     },
     "metadata": {},
     "output_type": "display_data"
    },
    {
     "name": "stdout",
     "output_type": "stream",
     "text": [
      "label: 7\n",
      "predicted_label: 7\n"
     ]
    }
   ],
   "source": [
    "import numpy as np\n",
    "from chainer import serializers\n",
    "from chainer.cuda import to_gpu\n",
    "from chainer.cuda import to_cpu\n",
    "\n",
    "n_units1, n_units2, n_output = 100, 100, 10\n",
    "model     = MLP(n_units1, n_units2, n_output)\n",
    "serializers.load_npz('mnist_result/model_epoch-10', model)\n",
    "    \n",
    "%matplotlib inline\n",
    "import matplotlib.pyplot as plt\n",
    "\n",
    "x, t = test[0]\n",
    "plt.imshow(x.reshape(28, 28), cmap='gray')\n",
    "plt.show()\n",
    "print('label:', t)\n",
    "\n",
    "if gpu_id >= 0:\n",
    "    model.to_gpu(gpu_id)\n",
    "    x = to_gpu(x[None, ...])\n",
    "    y = model(x)\n",
    "    y = to_cpu(y.data)\n",
    "else:    \n",
    "    x = x[None, ...]\n",
    "    y = model(x)\n",
    "    y = y.data\n",
    "\n",
    "print('predicted_label:', y.argmax(axis=1)[0])"
   ]
  },
  {
   "cell_type": "markdown",
   "metadata": {},
   "source": [
    "# オーバーフィッティング対策\n",
    "ドロップアウトを入れることで、オーバーフィッティングが防げるか試す"
   ]
  },
  {
   "cell_type": "code",
   "execution_count": 19,
   "metadata": {},
   "outputs": [],
   "source": [
    "# MLP: Multi-layer Perceptron\n",
    "class MLP(chainer.Chain):\n",
    "    \n",
    "    def __init__(self, n_units1, n_units2, n_output):\n",
    "        super().__init__()\n",
    "        with self.init_scope():\n",
    "            self.l1 = L.Linear(None, n_units1)\n",
    "            self.l2 = L.Linear(None, n_units2)\n",
    "            self.l3 = L.Linear(None, n_output)\n",
    "            \n",
    "    def __call__(self, x, train=True):\n",
    "        if train:\n",
    "            h1 = F.dropout( F.relu(self.l1(x)), ratio=0.2)\n",
    "            h2 = F.dropout( F.relu(self.l2(h1)), ratio=0.2 )\n",
    "            return self.l3(h2)\n",
    "        else:\n",
    "            h1 = F.relu(self.l1(x))\n",
    "            h2 = F.relu(self.l2(h1))\n",
    "            return self.l3(h2)"
   ]
  },
  {
   "cell_type": "code",
   "execution_count": 29,
   "metadata": {},
   "outputs": [],
   "source": [
    "# iteratorsの設定\n",
    "batchsize = 20\n",
    "\n",
    "train_iter = chainer.iterators.SerialIterator(train, batchsize)\n",
    "test_iter = chainer.iterators.SerialIterator(test, batchsize, repeat=False, shuffle=False)\n",
    "\n",
    "# モデルの宣言\n",
    "np.random.seed(1) # 乱数のシードを固定\n",
    "\n",
    "gpu_id = 0  # change to 0 if using GPU\n",
    "\n",
    "n_units1, n_units2, n_output = 100, 100, 10\n",
    "model     = MLP(n_units1, n_units2, n_output)\n",
    "\n",
    "if gpu_id >= 0:\n",
    "    model.to_gpu(gpu_id)\n",
    "\n",
    "model = L.Classifier(model)\n",
    "\n",
    "if gpu_id >= 0:\n",
    "    model.to_gpu(gpu_id)"
   ]
  },
  {
   "cell_type": "code",
   "execution_count": 30,
   "metadata": {},
   "outputs": [],
   "source": [
    "optimizer = chainer.optimizers.Adam()\n",
    "optimizer.setup(model)"
   ]
  },
  {
   "cell_type": "code",
   "execution_count": 31,
   "metadata": {},
   "outputs": [],
   "source": [
    "# updaterの設定\n",
    "from chainer import training\n",
    "updater = training.StandardUpdater(train_iter, optimizer, device=gpu_id)\n",
    "# trainerとそのextensionsの設定\n",
    "from chainer.training import extensions\n",
    "\n",
    "# trainerの基本設定\n",
    "## epoch = 1000\n",
    "epoch = 10\n",
    "trainer = training.Trainer(updater, (epoch, 'epoch'), out='mnist_result')\n",
    "\n",
    "# 評価データで評価\n",
    "trainer.extend(extensions.Evaluator(test_iter, model, device=gpu_id))\n",
    "\n",
    "# 学習結果の途中を表示する\n",
    "trainer.extend(extensions.LogReport(trigger=(1, 'epoch')))\n",
    "\n",
    "# １エポックごとに、trainデータに対するaccuracyと、testデータに対するaccuracyを出力させる\n",
    "trainer.extend(extensions.PrintReport(['epoch', 'main/accuracy', 'validation/main/accuracy', 'elapsed_time']), trigger=(1, 'epoch'))\n",
    "\n",
    "# 定期的にモデルやOptimizerの状態を自動シリアライズ(保存)\n",
    "trainer.extend(extensions.snapshot(filename='snapshot_epoch-{.updater.epoch}'))\n",
    "trainer.extend(extensions.snapshot_object(model.predictor, filename='model_epoch-{.updater.epoch}'))"
   ]
  },
  {
   "cell_type": "code",
   "execution_count": 32,
   "metadata": {},
   "outputs": [
    {
     "name": "stdout",
     "output_type": "stream",
     "text": [
      "epoch       main/accuracy  validation/main/accuracy  elapsed_time\n",
      "\u001b[J1           0.904656       0.9574                    16.3008       \n",
      "\u001b[J2           0.951204       0.964501                  33.6129       \n",
      "\u001b[J3           0.960138       0.9713                    49.9645       \n",
      "\u001b[J4           0.964954       0.973901                  67.5104       \n",
      "\u001b[J5           0.969055       0.9753                    86.5742       \n",
      "\u001b[J6           0.970806       0.9761                    104.268       \n",
      "\u001b[J7           0.973156       0.978801                  122.582       \n",
      "\u001b[J8           0.975157       0.9761                    140.46        \n",
      "\u001b[J9           0.976107       0.979                     158.542       \n",
      "\u001b[J10          0.976107       0.980401                  176.309       \n"
     ]
    }
   ],
   "source": [
    "trainer.run()"
   ]
  },
  {
   "cell_type": "markdown",
   "metadata": {},
   "source": [
    "# 結果の確認"
   ]
  },
  {
   "cell_type": "code",
   "execution_count": 33,
   "metadata": {},
   "outputs": [],
   "source": [
    "import json\n",
    "\n",
    "with open('result/log') as f:\n",
    "     logs = json.load(f)"
   ]
  },
  {
   "cell_type": "code",
   "execution_count": 34,
   "metadata": {},
   "outputs": [
    {
     "data": {
      "image/png": "[encoded data removed]",
      "text/plain": [
       "<matplotlib.figure.Figure at 0x7ff4bc0d4860>"
      ]
     },
     "metadata": {},
     "output_type": "display_data"
    }
   ],
   "source": [
    "# 損失関数のプロット\n",
    "loss_train = [ log['main/loss'] for log in logs ]\n",
    "loss_test  = [ log['validation/main/loss'] for log in logs ]\n",
    "\n",
    "plt.plot(loss_train, label='train')  # 訓練データ\n",
    "plt.plot(loss_test,  label='test')  # 検証データ\n",
    "plt.legend()  # 凡例表示\n",
    "plt.show()"
   ]
  },
  {
   "cell_type": "code",
   "execution_count": 35,
   "metadata": {},
   "outputs": [
    {
     "data": {
      "image/png": "[encoded data removed]",
      "text/plain": [
       "<matplotlib.figure.Figure at 0x7ff4bc097518>"
      ]
     },
     "metadata": {},
     "output_type": "display_data"
    }
   ],
   "source": [
    "# 正解率のプロット\n",
    "accuracy_train = [ log['main/accuracy'] for log in logs ]\n",
    "accuracy_test  = [ log['validation/main/accuracy'] for log in logs ]\n",
    "\n",
    "plt.plot(accuracy_train, label='train')  # 訓練データ\n",
    "plt.plot(accuracy_test,  label='test')  # 検証データ\n",
    "plt.legend()  # 凡例表示\n",
    "plt.show()"
   ]
  },
  {
   "cell_type": "markdown",
   "metadata": {},
   "source": [
    "# 学習済みモデルで推論"
   ]
  },
  {
   "cell_type": "code",
   "execution_count": 36,
   "metadata": {},
   "outputs": [
    {
     "data": {
      "image/png": "[encoded data removed]",
      "text/plain": [
       "<matplotlib.figure.Figure at 0x7ff4c4031ba8>"
      ]
     },
     "metadata": {},
     "output_type": "display_data"
    },
    {
     "name": "stdout",
     "output_type": "stream",
     "text": [
      "label: 7\n",
      "predicted_label: 7\n"
     ]
    }
   ],
   "source": [
    "import numpy as np\n",
    "from chainer import serializers\n",
    "from chainer.cuda import to_gpu\n",
    "from chainer.cuda import to_cpu\n",
    "\n",
    "n_units1, n_units2, n_output = 100, 100, 10\n",
    "model     = MLP(n_units1, n_units2, n_output)\n",
    "serializers.load_npz('mnist_result/model_epoch-10', model)\n",
    "    \n",
    "%matplotlib inline\n",
    "import matplotlib.pyplot as plt\n",
    "\n",
    "x, t = test[0]\n",
    "plt.imshow(x.reshape(28, 28), cmap='gray')\n",
    "plt.show()\n",
    "print('label:', t)\n",
    "\n",
    "if gpu_id >= 0:\n",
    "    model.to_gpu(gpu_id)\n",
    "    x = to_gpu(x[None, ...])\n",
    "    y = model(x)\n",
    "    y = to_cpu(y.data)\n",
    "else:    \n",
    "    x = x[None, ...]\n",
    "    y = model(x)\n",
    "    y = y.data\n",
    "\n",
    "print('predicted_label:', y.argmax(axis=1)[0])"
   ]
  },
  {
   "cell_type": "code",
   "execution_count": null,
   "metadata": {},
   "outputs": [],
   "source": []
  }
 ],
 "metadata": {
  "kernelspec": {
   "display_name": "Python 3",
   "language": "python",
   "name": "python3"
  },
  "language_info": {
   "codemirror_mode": {
    "name": "ipython",
    "version": 3
   },
   "file_extension": ".py",
   "mimetype": "text/x-python",
   "name": "python",
   "nbconvert_exporter": "python",
   "pygments_lexer": "ipython3",
   "version": "3.6.2"
  }
 },
 "nbformat": 4,
 "nbformat_minor": 2
}
